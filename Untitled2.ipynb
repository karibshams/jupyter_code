{
 "cells": [
  {
   "cell_type": "code",
   "execution_count": 5,
   "id": "278719cb-88fc-4246-b267-6a5019c1159d",
   "metadata": {},
   "outputs": [
    {
     "name": "stdout",
     "output_type": "stream",
     "text": [
      "Extraction completed! Files are saved in: D:/Jupyter/area_totals\n"
     ]
    }
   ],
   "source": [
    "import os\n",
    "import pandas as pd\n",
    "import zipfile\n",
    "\n",
    "# Define the areas to extract\n",
    "areas = [\n",
    "    \"Dhaka area Total\", \"Chattogram area Total\", \"Cumilla Area Total\",\n",
    "    \"Mymensingh Area Total\", \"Sylhet Area Total\", \"Khulna Area Total\",\n",
    "    \"Barisal Area Total\", \"Rajshahi Area Total\", \"Rangpur Area Total\"\n",
    "]\n",
    "\n",
    "# Paths\n",
    "extract_folder = \"/modified_files\"\n",
    "os.makedirs(extract_folder, exist_ok=True)\n",
    "\n",
    "# Initialize storage for data\n",
    "area_data = {area: [] for area in areas}\n",
    "\n",
    "# Process each CSV file\n",
    "for file in os.listdir(extract_folder):\n",
    "    if file.endswith(\".csv\"):\n",
    "        file_path = os.path.join(extract_folder, file)\n",
    "        df = pd.read_csv(file_path, encoding='utf-8', low_memory=False)\n",
    "        \n",
    "        if \"Name of the Power Station\" in df.columns:\n",
    "            for area in areas:\n",
    "                filtered_rows = df[df[\"Name of the Power Station\"].str.contains(area, na=False, case=False)]\n",
    "                if not filtered_rows.empty:\n",
    "                    area_data[area].append(filtered_rows)\n",
    "\n",
    "# Save extracted data into new CSV files\n",
    "output_folder = \"D:/Jupyter/area_totals\"\n",
    "os.makedirs(output_folder, exist_ok=True)\n",
    "\n",
    "for area, data in area_data.items():\n",
    "    if data:\n",
    "        output_df = pd.concat(data, ignore_index=True)\n",
    "        output_file = os.path.join(output_folder, f\"{area}.csv\")\n",
    "        output_df.to_csv(output_file, index=False, encoding='utf-8')\n",
    "\n",
    "print(\"Extraction completed! Files are saved in:\", output_folder)\n"
   ]
  },
  {
   "cell_type": "code",
   "execution_count": 6,
   "id": "fbd6ecb3-af42-43a7-b652-6f198c3cffc7",
   "metadata": {},
   "outputs": [
    {
     "name": "stdout",
     "output_type": "stream",
     "text": [
      "No data found for Dhaka area Total.\n",
      "No data found for Chattogram area Total.\n",
      "No data found for Cumilla Area Total.\n",
      "No data found for Mymensingh Area Total.\n",
      "No data found for Sylhet Area Total.\n",
      "No data found for Khulna Area Total.\n",
      "No data found for Barisal Area Total.\n",
      "No data found for Rajshahi Area Total.\n",
      "No data found for Rangpur Area Total.\n",
      "Extraction completed! Files are saved in: D:/Jupyter/area_totalstotals\n"
     ]
    }
   ],
   "source": [
    "import os\n",
    "import pandas as pd\n",
    "\n",
    "# Define the areas to extract\n",
    "areas = [\n",
    "    \"Dhaka area Total\", \"Chattogram area Total\", \"Cumilla Area Total\",\n",
    "    \"Mymensingh Area Total\", \"Sylhet Area Total\", \"Khulna Area Total\",\n",
    "    \"Barisal Area Total\", \"Rajshahi Area Total\", \"Rangpur Area Total\"\n",
    "]\n",
    "\n",
    "# Paths\n",
    "extract_folder = \"/modified_files\"\n",
    "os.makedirs(extract_folder, exist_ok=True)\n",
    "\n",
    "# Initialize storage for data\n",
    "area_data = {area: [] for area in areas}\n",
    "\n",
    "# Process each CSV file\n",
    "for file in os.listdir(extract_folder):\n",
    "    if file.endswith(\".csv\"):\n",
    "        file_path = os.path.join(extract_folder, file)\n",
    "        df = pd.read_csv(file_path, encoding='utf-8', low_memory=False)\n",
    "        \n",
    "        # Normalize column names by stripping spaces\n",
    "        df.columns = df.columns.str.strip()\n",
    "        \n",
    "        # Ensure the correct column exists\n",
    "        column_name = \"Name of the Power Station\"\n",
    "        if column_name in df.columns:\n",
    "            df[column_name] = df[column_name].astype(str).str.strip().str.lower()  # Normalize text\n",
    "            \n",
    "            for area in areas:\n",
    "                area_lower = area.lower().strip()\n",
    "                filtered_rows = df[df[column_name].str.contains(area_lower, na=False, case=False)]\n",
    "                if not filtered_rows.empty:\n",
    "                    area_data[area].append(filtered_rows)\n",
    "\n",
    "# Save extracted data into new CSV files\n",
    "output_folder = \"D:/Jupyter/area_totalstotals\"\n",
    "os.makedirs(output_folder, exist_ok=True)\n",
    "\n",
    "for area, data in area_data.items():\n",
    "    if data:\n",
    "        output_df = pd.concat(data, ignore_index=True)\n",
    "        output_file = os.path.join(output_folder, f\"{area}.csv\")\n",
    "        output_df.to_csv(output_file, index=False, encoding='utf-8')\n",
    "        print(f\"Saved {area}.csv with {len(output_df)} rows.\")\n",
    "    else:\n",
    "        print(f\"No data found for {area}.\")\n",
    "\n",
    "print(\"Extraction completed! Files are saved in:\", output_folder)\n"
   ]
  },
  {
   "cell_type": "code",
   "execution_count": null,
   "id": "1490179f-b152-440d-8c2d-ea89bf5d8251",
   "metadata": {},
   "outputs": [],
   "source": []
  }
 ],
 "metadata": {
  "kernelspec": {
   "display_name": "Python 3 (ipykernel)",
   "language": "python",
   "name": "python3"
  },
  "language_info": {
   "codemirror_mode": {
    "name": "ipython",
    "version": 3
   },
   "file_extension": ".py",
   "mimetype": "text/x-python",
   "name": "python",
   "nbconvert_exporter": "python",
   "pygments_lexer": "ipython3",
   "version": "3.11.6"
  }
 },
 "nbformat": 4,
 "nbformat_minor": 5
}
