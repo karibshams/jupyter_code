{
 "cells": [
  {
   "cell_type": "code",
   "execution_count": 11,
   "id": "58a4d041-3299-48e3-8776-1d03b6ee48a4",
   "metadata": {},
   "outputs": [
    {
     "name": "stdout",
     "output_type": "stream",
     "text": [
      "1/1 [==============================] - 2s 2s/step\n",
      "Predicted class: Normal\n",
      "Confidence: 99.97%\n"
     ]
    }
   ],
   "source": [
    "import tensorflow as tf\n",
    "from tensorflow.keras.models import load_model\n",
    "import numpy as np\n",
    "from PIL import Image\n",
    "\n",
    "# Load the saved model\n",
    "model = load_model(\"resnet50cus.h5\")\n",
    "\n",
    "# Define a function to preprocess new images\n",
    "def preprocess_image(image_path, img_size=(224, 224)):\n",
    "    img = Image.open(image_path)\n",
    "    img = img.resize(img_size)\n",
    "    img_array = np.array(img) / 255.0  # Rescale to [0,1]\n",
    "    img_array = np.expand_dims(img_array, axis=0)  # Reshape to (1, 224, 224, 3) as model expects batches\n",
    "    return img_array\n",
    "\n",
    "# Example usage: Predicting on a single image\n",
    "image_path = r\"D:\\CAPSTONE 400A\\final_dataset\\Tuberculosis\\TB_Chest_Radiography_Database\\image7500f\\Normal\\Normal-1.png\" # Replace with the path to your image\n",
    "preprocessed_image = preprocess_image(image_path)\n",
    "predictions = model.predict(preprocessed_image)\n",
    "\n",
    "# Get the predicted class and percentage\n",
    "predicted_class = np.argmax(predictions, axis=0)[0]\n",
    "confidence = np.max(predictions, axis=1)[0] * 100  # Convert softmax output to percentage\n",
    "\n",
    "# Assuming your classes are [\"Normal\", \"Tuberculosis\"]\n",
    "classes = [\"Normal\", \"Tuberculosis\"]\n",
    "predicted_label = classes[predicted_class]\n",
    "\n",
    "print(f\"Predicted class: {predicted_label}\")\n",
    "print(f\"Confidence: {confidence:.2f}%\")\n"
   ]
  },
  {
   "cell_type": "code",
   "execution_count": null,
   "id": "b743c4e8-efdb-4c40-a47a-a57f04d2bbdc",
   "metadata": {},
   "outputs": [],
   "source": [
    "\"D:\\CAPSTONE 400A\\final_dataset\\Tuberculosis\\TB_Chest_Radiography_Database\\image7500f\\Normal\\Normal-1.png\""
   ]
  }
 ],
 "metadata": {
  "kernelspec": {
   "display_name": "Python 3 (ipykernel)",
   "language": "python",
   "name": "python3"
  },
  "language_info": {
   "codemirror_mode": {
    "name": "ipython",
    "version": 3
   },
   "file_extension": ".py",
   "mimetype": "text/x-python",
   "name": "python",
   "nbconvert_exporter": "python",
   "pygments_lexer": "ipython3",
   "version": "3.11.6"
  }
 },
 "nbformat": 4,
 "nbformat_minor": 5
}
