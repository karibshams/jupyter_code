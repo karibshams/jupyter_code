{
 "cells": [
  {
   "cell_type": "code",
   "execution_count": null,
   "id": "e07a6929-ce81-4ecf-8c3a-a73bbe430932",
   "metadata": {},
   "outputs": [],
   "source": [
    "import os\n",
    "import numpy as np\n",
    "import pandas as pd\n",
    "import tensorflow as tf\n",
    "from tensorflow.keras.preprocessing.image import ImageDataGenerator\n",
    "from tensorflow.keras.layers import GlobalAveragePooling2D\n",
    "from tensorflow.keras.models import Model\n",
    "from sklearn.model_selection import train_test_split\n",
    "from sklearn.metrics import classification_report, confusion_matrix, accuracy_score\n",
    "import xgboost as xgb\n",
    "import seaborn as sns\n",
    "sns.set_style('darkgrid')\n",
    "import matplotlib.pyplot as plt\n",
    "import warnings\n",
    "warnings.filterwarnings(\"ignore\")\n",
    "\n",
    "\n",
    "\n",
    "\n",
    "\n",
    "\n"
   ]
  },
  {
   "cell_type": "code",
   "execution_count": null,
   "id": "d8d04b52-47d9-4212-947d-36ef6e65e153",
   "metadata": {},
   "outputs": [],
   "source": [
    "print('Modules loaded')\n",
    "\n",
    "data_dir = r\"D:\\CAPSTONE 400A\\final_dataset\\Tuberculosis\\TB_Chest_Radiography_Database\\image7500f\"\n",
    "filepaths = []\n",
    "labels = []\n",
    "\n",
    "for root, dirs, files in os.walk(data_dir):\n",
    "    for file in files:\n",
    "        file_path = os.path.join(root, file)\n",
    "        filepaths.append(file_path)\n",
    "        label = os.path.basename(root)\n",
    "        labels.append(label)\n",
    "\n",
    "df = pd.DataFrame({'filepaths': filepaths, 'labels': labels})\n",
    "labels = df['labels']\n",
    "print(df)\n",
    "\n",
    "batch_size = 32\n",
    "img_size = (224, 224)\n",
    "channels = 3\n",
    "img_shape = (img_size[0], img_size[1], channels)\n",
    "\n",
    "train_df, test_df = train_test_split(df, test_size=0.2, stratify=df['labels'], random_state=123)"
   ]
  },
  {
   "cell_type": "code",
   "execution_count": null,
   "id": "400c7748-951c-4096-a375-be056dee4e50",
   "metadata": {},
   "outputs": [],
   "source": [
    "def build_feature_extractor():\n",
    "    base_model = tf.keras.applications.VGG19(input_shape=img_shape, include_top=False, weights='imagenet')\n",
    "    base_model.trainable = False  # Freeze the base model\n",
    "    x = base_model.output\n",
    "    x = GlobalAveragePooling2D()(x)\n",
    "    feature_extractor = Model(inputs=base_model.input, outputs=x)\n",
    "    return feature_extractor\n",
    "    feature_extractor = build_feature_extractor()"
   ]
  },
  {
   "cell_type": "code",
   "execution_count": null,
   "id": "555a27b0-04a0-4170-802d-aaca011e39ec",
   "metadata": {},
   "outputs": [],
   "source": [
    "\n",
    "tr_gen = ImageDataGenerator()\n",
    "ts_gen = ImageDataGenerator()\n",
    "\n",
    "train_gen = tr_gen.flow_from_dataframe(train_df, x_col='filepaths', y_col='labels',\n",
    "                                       target_size=img_size, class_mode='categorical',\n",
    "                                       color_mode='rgb', shuffle=False, batch_size=batch_size)\n",
    "\n",
    "test_gen = ts_gen.flow_from_dataframe(test_df, x_col='filepaths', y_col='labels',\n",
    "                                      target_size=img_size, class_mode='categorical',\n",
    "                                      color_mode='rgb', shuffle=False, batch_size=batch_size)\n",
    "\n",
    "def extract_features(generator, sample_count):\n",
    "    features = np.zeros((sample_count, 512))  # 512 is the output size of GlobalAveragePooling2D layer in VGG19\n",
    "    labels = np.zeros((sample_count, 2))  # Assuming 2 classes for categorical output\n",
    "    i = 0\n",
    "    for inputs_batch, labels_batch in generator:\n",
    "        features_batch = feature_extractor.predict(inputs_batch)\n",
    "        features[i * batch_size: (i + 1) * batch_size] = features_batch\n",
    "        labels[i * batch_size: (i + 1) * batch_size] = labels_batch\n",
    "        i += 1\n",
    "        if i * batch_size >= sample_count:\n",
    "            break\n",
    "    return features, labels\n",
    "\n",
    "train_features, train_labels = extract_features(train_gen, len(train_df))\n",
    "test_features, test_labels = extract_features(test_gen, len(test_df))\n",
    "\n",
    "print(\"Train features shape:\", train_features.shape)\n",
    "print(\"Test features shape:\", test_features.shape)\n"
   ]
  },
  {
   "cell_type": "code",
   "execution_count": null,
   "id": "29f37286-d614-4f33-bd7f-4fcb0f8523ca",
   "metadata": {},
   "outputs": [],
   "source": [
    "train_labels = np.argmax(train_labels, axis=1)  # Convert one-hot encoded labels to single integer labels\n",
    "test_labels = np.argmax(test_labels, axis=1)\n",
    "\n",
    "dtrain = xgb.DMatrix(train_features, label=train_labels)\n",
    "dtest = xgb.DMatrix(test_features, label=test_labels)\n"
   ]
  },
  {
   "cell_type": "code",
   "execution_count": null,
   "id": "1bf180f2-c988-4307-ae1e-8414aa8ad599",
   "metadata": {},
   "outputs": [],
   "source": [
    "params = {\n",
    "    'max_depth': 3,\n",
    "    'eta': 0.1,\n",
    "    'objective': 'multi:softmax',\n",
    "    'num_class': 2,\n",
    "    'min_child_weight': 1,\n",
    "    'gamma': 0,\n",
    "    'subsample': 1,\n",
    "    'colsample_bytree': 1\n",
    "}\n",
    "num_rounds = 300\n",
    "early_stop = 10\n",
    "\n",
    "bst = xgb.train(params, dtrain, num_rounds, evals=[(dtest, 'eval')], early_stopping_rounds=early_stop)\n"
   ]
  },
  {
   "cell_type": "code",
   "execution_count": null,
   "id": "14772650-a71c-4e81-be1f-3031b7c699c1",
   "metadata": {},
   "outputs": [],
   "source": [
    "preds = bst.predict(dtest)\n",
    "print(\"Classification Report\")\n",
    "print(classification_report(test_labels, preds, target_names=train_gen.class_indices.keys()))\n",
    "\n",
    "cm = confusion_matrix(test_labels, preds)\n",
    "cm_df = pd.DataFrame(cm, index=train_gen.class_indices.keys(), columns=train_gen.class_indices.keys())\n",
    "\n",
    "plt.figure(figsize=(8, 6))\n",
    "sns.heatmap(cm_df, annot=True, fmt='d', cmap='Blues')\n",
    "plt.title('Confusion Matrix')\n",
    "plt.ylabel('Actual')\n",
    "plt.xlabel('Predicted')\n",
    "plt.show()\n"
   ]
  },
  {
   "cell_type": "code",
   "execution_count": null,
   "id": "e7055061-eb5e-4468-9bd8-f5a1915051b6",
   "metadata": {},
   "outputs": [],
   "source": [
    "accuracy = accuracy_score(test_labels, preds)\n",
    "print(f\"Accuracy: {accuracy * 100:.2f}%\")\n"
   ]
  },
  {
   "cell_type": "code",
   "execution_count": null,
   "id": "604902ad-f49f-4868-877f-2941541c9097",
   "metadata": {},
   "outputs": [],
   "source": []
  }
 ],
 "metadata": {
  "kernelspec": {
   "display_name": "Python 3 (ipykernel)",
   "language": "python",
   "name": "python3"
  },
  "language_info": {
   "codemirror_mode": {
    "name": "ipython",
    "version": 3
   },
   "file_extension": ".py",
   "mimetype": "text/x-python",
   "name": "python",
   "nbconvert_exporter": "python",
   "pygments_lexer": "ipython3",
   "version": "3.11.6"
  }
 },
 "nbformat": 4,
 "nbformat_minor": 5
}
