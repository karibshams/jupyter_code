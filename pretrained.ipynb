{
 "cells": [
  {
   "cell_type": "code",
   "execution_count": 1,
   "id": "4e1c7ece-f60c-4bf9-818d-c76018b4acee",
   "metadata": {},
   "outputs": [
    {
     "name": "stdout",
     "output_type": "stream",
     "text": [
      "Modules loaded\n"
     ]
    }
   ],
   "source": [
    "import os\n",
    "import numpy as np\n",
    "import pandas as pd\n",
    "import tensorflow as tf\n",
    "from tensorflow.keras.preprocessing.image import ImageDataGenerator\n",
    "from tensorflow.keras.layers import Dense, GlobalAveragePooling2D, Dropout\n",
    "from tensorflow.keras.models import Model\n",
    "from tensorflow.keras.optimizers import Adamax\n",
    "from sklearn.model_selection import train_test_split\n",
    "from sklearn.metrics import classification_report, confusion_matrix\n",
    "from tensorflow.keras.callbacks import ModelCheckpoint, EarlyStopping, ReduceLROnPlateau\n",
    "import warnings\n",
    "warnings.filterwarnings(\"ignore\")\n",
    "import seaborn as sns\n",
    "sns.set_style('darkgrid')\n",
    "import matplotlib.pyplot as plt\n",
    "\n",
    "print('Modules loaded')\n"
   ]
  },
  {
   "cell_type": "code",
   "execution_count": 2,
   "id": "eb99813e-f482-4cec-bae3-ce1f207ef043",
   "metadata": {},
   "outputs": [
    {
     "name": "stdout",
     "output_type": "stream",
     "text": [
      "                                              filepaths        labels\n",
      "0     D:\\CAPSTONE 400A\\final_dataset\\Tuberculosis\\TB...        Normal\n",
      "1     D:\\CAPSTONE 400A\\final_dataset\\Tuberculosis\\TB...        Normal\n",
      "2     D:\\CAPSTONE 400A\\final_dataset\\Tuberculosis\\TB...        Normal\n",
      "3     D:\\CAPSTONE 400A\\final_dataset\\Tuberculosis\\TB...        Normal\n",
      "4     D:\\CAPSTONE 400A\\final_dataset\\Tuberculosis\\TB...        Normal\n",
      "...                                                 ...           ...\n",
      "6995  D:\\CAPSTONE 400A\\final_dataset\\Tuberculosis\\TB...  Tuberculosis\n",
      "6996  D:\\CAPSTONE 400A\\final_dataset\\Tuberculosis\\TB...  Tuberculosis\n",
      "6997  D:\\CAPSTONE 400A\\final_dataset\\Tuberculosis\\TB...  Tuberculosis\n",
      "6998  D:\\CAPSTONE 400A\\final_dataset\\Tuberculosis\\TB...  Tuberculosis\n",
      "6999  D:\\CAPSTONE 400A\\final_dataset\\Tuberculosis\\TB...  Tuberculosis\n",
      "\n",
      "[7000 rows x 2 columns]\n"
     ]
    }
   ],
   "source": [
    "data_dir = r\"D:\\CAPSTONE 400A\\final_dataset\\Tuberculosis\\TB_Chest_Radiography_Database\\image7500f\"\n",
    "filepaths = []\n",
    "labels = []\n",
    "\n",
    "for root, dirs, files in os.walk(data_dir):\n",
    "    for file in files:\n",
    "        file_path = os.path.join(root, file)\n",
    "        filepaths.append(file_path)\n",
    "        label = os.path.basename(root)\n",
    "        labels.append(label)\n",
    "\n",
    "df = pd.DataFrame({'filepaths': filepaths, 'labels': labels})\n",
    "labels = df['labels']\n",
    "print(df)\n"
   ]
  },
  {
   "cell_type": "code",
   "execution_count": 3,
   "id": "df0ffff6-aadb-4e28-9e38-8aba28bac445",
   "metadata": {},
   "outputs": [],
   "source": [
    "batch_size = 32\n",
    "img_size = (224, 224)\n",
    "channels = 3\n",
    "img_shape = (img_size[0], img_size[1], channels)\n",
    "epochs = 5\n",
    "NUM_CLASSES = 2\n"
   ]
  },
  {
   "cell_type": "code",
   "execution_count": 4,
   "id": "087194ea-48d8-493e-a73e-c499d1d3b53f",
   "metadata": {},
   "outputs": [],
   "source": [
    "def get_callbacks(model_name):\n",
    "    callbacks = []\n",
    "    checkpoint = ModelCheckpoint(filepath=f'model.{model_name}.h5', verbose=1, monitor='val_accuracy', mode='max')\n",
    "    callbacks.append(checkpoint)\n",
    "    reduce_lr = ReduceLROnPlateau(monitor='val_loss', factor=0.2, patience=3, min_lr=1e-6, verbose=1)\n",
    "    callbacks.append(reduce_lr)\n",
    "    early_stopping = EarlyStopping(monitor='val_loss', patience=5, restore_best_weights=True, verbose=1)\n",
    "    callbacks.append(early_stopping)\n",
    "    return callbacks\n"
   ]
  },
  {
   "cell_type": "code",
   "execution_count": 5,
   "id": "e89a5bb1-a2e8-4ff7-8336-635bd48ea0f5",
   "metadata": {},
   "outputs": [],
   "source": [
    "def build_model():\n",
    "    base_model = tf.keras.applications.EfficientNetB3(input_shape=img_shape, include_top=False, weights='imagenet')\n",
    "    base_model.trainable = True\n",
    "    x = base_model.output\n",
    "    x = GlobalAveragePooling2D()(x)\n",
    "    x = Dropout(0.45)(x)\n",
    "    y = Dense(256, activation='relu')(x)\n",
    "    y = Dropout(0.45)(y)\n",
    "    \n",
    "    predictions = Dense(NUM_CLASSES, activation='softmax', name='final')(y)\n",
    "    model = Model(inputs=base_model.input, outputs=predictions)\n",
    "    model.compile(optimizer=Adamax(0.001), loss='categorical_crossentropy', metrics=['accuracy'])\n",
    "    return model\n"
   ]
  },
  {
   "cell_type": "code",
   "execution_count": 6,
   "id": "57269fec-2ff4-4016-ad1f-9d2b794305b6",
   "metadata": {},
   "outputs": [],
   "source": [
    "train_df, test_df = train_test_split(df, test_size=0.2, stratify=df['labels'], random_state=123)\n"
   ]
  },
  {
   "cell_type": "code",
   "execution_count": 7,
   "id": "7d9e143d-909c-40f4-a30a-8999b1db98d1",
   "metadata": {},
   "outputs": [
    {
     "name": "stdout",
     "output_type": "stream",
     "text": [
      "Found 5600 validated image filenames belonging to 2 classes.\n",
      "Found 1400 validated image filenames belonging to 2 classes.\n"
     ]
    }
   ],
   "source": [
    "tr_gen = ImageDataGenerator()\n",
    "ts_gen = ImageDataGenerator()\n",
    "\n",
    "train_gen = tr_gen.flow_from_dataframe(train_df, x_col='filepaths', y_col='labels',\n",
    "                                       target_size=img_size, class_mode='categorical',\n",
    "                                       color_mode='rgb', shuffle=True, batch_size=batch_size)\n",
    "\n",
    "test_gen = ts_gen.flow_from_dataframe(test_df, x_col='filepaths', y_col='labels',\n",
    "                                      target_size=img_size, class_mode='categorical',\n",
    "                                      color_mode='rgb', shuffle=False, batch_size=batch_size)\n",
    "\n",
    "g_dict = train_gen.class_indices\n",
    "classes = list(g_dict.keys())\n",
    "class_count = len(classes)\n"
   ]
  },
  {
   "cell_type": "code",
   "execution_count": null,
   "id": "907a8ea5-c3f1-461f-b5b2-154782f0d2bc",
   "metadata": {},
   "outputs": [
    {
     "name": "stdout",
     "output_type": "stream",
     "text": [
      "Epoch 1/5\n",
      " 25/175 [===>..........................] - ETA: 1:47:14 - loss: 0.0948 - accuracy: 0.9588"
     ]
    }
   ],
   "source": [
    "model = build_model()\n",
    "callbacks = get_callbacks('Xception_model')\n",
    "\n",
    "history = model.fit(train_gen,\n",
    "                    epochs=epochs,\n",
    "                    validation_data=test_gen,\n",
    "                    callbacks=callbacks)\n"
   ]
  },
  {
   "cell_type": "code",
   "execution_count": null,
   "id": "51515891-453e-4e16-b8f9-7c2b70b15fa3",
   "metadata": {},
   "outputs": [],
   "source": [
    "ts_length = len(test_df)\n",
    "test_batch_size = min(32, ts_length)\n",
    "test_steps = ts_length // test_batch_size\n",
    "\n",
    "test_score = model.evaluate(test_gen, steps=test_steps, verbose=1)\n",
    "print(f\"Test Loss: \", test_score[0])\n",
    "print(f\"Test Accuracy: \", test_score[1])\n"
   ]
  },
  {
   "cell_type": "code",
   "execution_count": null,
   "id": "2219fa4c-83a6-480a-afe1-4c579e961cb0",
   "metadata": {},
   "outputs": [],
   "source": [
    "# Predictions and classification report\n",
    "preds = model.predict(test_gen)\n",
    "y_pred = np.argmax(preds, axis=1)\n",
    "print(\"Classification Report\")\n",
    "print(classification_report(test_gen.classes, y_pred, target_names=classes))\n"
   ]
  },
  {
   "cell_type": "code",
   "execution_count": null,
   "id": "ed13e8f8-17d8-434a-b758-451bcbe7a792",
   "metadata": {},
   "outputs": [],
   "source": [
    "plt.figure(figsize=(12, 5))\n",
    "\n",
    "# Accuracy plot\n",
    "plt.subplot(1, 2, 1)\n",
    "plt.plot(history.history['accuracy'], label='train_accuracy')\n",
    "plt.plot(history.history['val_accuracy'], label='val_accuracy')\n",
    "plt.title('Model Accuracy')\n",
    "plt.xlabel('Epochs')\n",
    "plt.ylabel('Accuracy')\n",
    "plt.legend()\n",
    "\n",
    "# Loss plot\n",
    "plt.subplot(1, 2, 2)\n",
    "plt.plot(history.history['loss'], label='train_loss')\n",
    "plt.plot(history.history['val_loss'], label='val_loss')\n",
    "plt.title('Model Loss')\n",
    "plt.xlabel('Epochs')\n",
    "plt.ylabel('Loss')\n",
    "plt.legend()\n",
    "\n",
    "plt.tight_layout()\n",
    "plt.show()\n"
   ]
  },
  {
   "cell_type": "code",
   "execution_count": null,
   "id": "611e33be-f9c3-4b92-a050-55ab990eb7fa",
   "metadata": {},
   "outputs": [],
   "source": [
    "cm = confusion_matrix(test_gen.classes, y_pred)\n",
    "cm_df = pd.DataFrame(cm, index=classes, columns=classes)\n",
    "\n",
    "plt.figure(figsize=(8, 6))\n",
    "sns.heatmap(cm_df, annot=True, fmt='d', cmap='Blues')\n",
    "plt.title('Confusion Matrix')\n",
    "plt.ylabel('Actual')\n",
    "plt.xlabel('Predicted')\n",
    "plt.show()\n"
   ]
  }
 ],
 "metadata": {
  "kernelspec": {
   "display_name": "Python 3 (ipykernel)",
   "language": "python",
   "name": "python3"
  },
  "language_info": {
   "codemirror_mode": {
    "name": "ipython",
    "version": 3
   },
   "file_extension": ".py",
   "mimetype": "text/x-python",
   "name": "python",
   "nbconvert_exporter": "python",
   "pygments_lexer": "ipython3",
   "version": "3.11.6"
  }
 },
 "nbformat": 4,
 "nbformat_minor": 5
}
