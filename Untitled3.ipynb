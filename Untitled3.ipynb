{
 "cells": [
  {
   "cell_type": "code",
   "execution_count": 14,
   "id": "3c763824-ae48-4598-bfed-f9542175ab07",
   "metadata": {},
   "outputs": [
    {
     "name": "stdout",
     "output_type": "stream",
     "text": [
      "✅ Final CSV saved as 'imbalanced_corrected_dataset.csv'\n",
      "📊 Class distribution:\n",
      " Cancer\n",
      "1    500\n",
      "0    100\n",
      "Name: count, dtype: int64\n"
     ]
    }
   ],
   "source": [
    "# 2. Imports\n",
    "import pandas as pd\n",
    "from imblearn.over_sampling import RandomOverSampler\n",
    "from imblearn.under_sampling import RandomUnderSampler\n",
    "\n",
    "# 3. Load CSV\n",
    "df = pd.read_csv(\"cancer_prediction_dataset.csv\")  # Change filename if needed\n",
    "X = df.drop(\"Cancer\", axis=1)\n",
    "y = df[\"Cancer\"]\n",
    "\n",
    "# 4. OVERSAMPLE class 1 (Cancer = 1) to 400 samples\n",
    "ros = RandomOverSampler(sampling_strategy={1: 500}, random_state=42)\n",
    "X_ros, y_ros = ros.fit_resample(X, y)\n",
    "\n",
    "# 5. UNDERSAMPLE class 0 (Cancer = 0) to 150 samples\n",
    "rus = RandomUnderSampler(sampling_strategy={0: 100, 1: 500}, random_state=42)\n",
    "X_balanced, y_balanced = rus.fit_resample(X_ros, y_ros)\n",
    "\n",
    "# 6. Combine and save\n",
    "balanced_df = pd.concat([pd.DataFrame(X_balanced, columns=X.columns), pd.Series(y_balanced, name=\"Cancer\")], axis=1)\n",
    "balanced_df.to_csv(\"imb2.csv\", index=False)\n",
    "\n",
    "print(\"✅ Final CSV saved as 'imbalanced_corrected_dataset.csv'\")\n",
    "print(\"📊 Class distribution:\\n\", balanced_df[\"Cancer\"].value_counts())\n"
   ]
  },
  {
   "cell_type": "code",
   "execution_count": null,
   "id": "b664edd8-647d-4b53-b43b-1f14fee617b3",
   "metadata": {},
   "outputs": [],
   "source": []
  }
 ],
 "metadata": {
  "kernelspec": {
   "display_name": "Python 3 (ipykernel)",
   "language": "python",
   "name": "python3"
  },
  "language_info": {
   "codemirror_mode": {
    "name": "ipython",
    "version": 3
   },
   "file_extension": ".py",
   "mimetype": "text/x-python",
   "name": "python",
   "nbconvert_exporter": "python",
   "pygments_lexer": "ipython3",
   "version": "3.11.6"
  }
 },
 "nbformat": 4,
 "nbformat_minor": 5
}
