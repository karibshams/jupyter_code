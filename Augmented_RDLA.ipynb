{
 "cells": [
  {
   "cell_type": "code",
   "execution_count": null,
   "metadata": {
    "colab": {
     "base_uri": "https://localhost:8080/"
    },
    "id": "WZYkZ42a69iN",
    "outputId": "89c93481-fc64-4548-c3e8-d5e6cb729abb"
   },
   "outputs": [
    {
     "name": "stdout",
     "output_type": "stream",
     "text": [
      "Initialised with 321 image(s) found.\n",
      "Output directory set to /content/drive/MyDrive/AugmentedImages/Atelectasis/2."
     ]
    },
    {
     "name": "stderr",
     "output_type": "stream",
     "text": [
      "Processing <PIL.Image.Image image mode=L size=1024x1024 at 0x78987C620E50>: 100%|██████████| 1000/1000 [04:11<00:00,  3.97 Samples/s]\n",
      "<ipython-input-17-f3c228532719>:37: DeprecationWarning: ANTIALIAS is deprecated and will be removed in Pillow 10 (2023-07-01). Use LANCZOS or Resampling.LANCZOS instead.\n",
      "  img = img.resize(desired_size, Image.ANTIALIAS)\n"
     ]
    },
    {
     "name": "stdout",
     "output_type": "stream",
     "text": [
      "Generated 1000 augmented images (224x224) in /content/drive/MyDrive/AugmentedImages/Atelectasis/2\n"
     ]
    }
   ],
   "source": [
    "import Augmentor\n",
    "import os\n",
    "from PIL import Image\n",
    "\n",
    "# Path to the folder containing source images\n",
    "source_dir = \"/content/drive/MyDrive/New dataset location/Atelectasis/\"\n",
    "\n",
    "# Path to the folder where augmented images will be saved\n",
    "output_dir = \"/content/drive/MyDrive/AugmentedImages/Atelectasis/2\"\n",
    "\n",
    "# Desired image size\n",
    "desired_size = (224, 224)\n",
    "\n",
    "# Create the output directory if it doesn't exist\n",
    "os.makedirs(output_dir, exist_ok=True)\n",
    "\n",
    "# Create an Augmentor pipeline\n",
    "p = Augmentor.Pipeline(source_directory=source_dir, output_directory=output_dir)\n",
    "\n",
    "# Define the number of samples you want to generate (1000 in your case)\n",
    "num_samples = 1000\n",
    "\n",
    "# Add augmentation operations (you can customize this as needed)\n",
    "p.rotate(probability=0.7, max_left_rotation=25, max_right_rotation=25)\n",
    "p.flip_left_right(probability=0.5)\n",
    "p.zoom_random(probability=0.5, percentage_area=0.8)\n",
    "p.random_contrast(probability=0.5, min_factor=0.7, max_factor=1.3)\n",
    "\n",
    "# Keep generating samples until you reach the desired number\n",
    "p.sample(num_samples)\n",
    "\n",
    "# Resize the generated images to the desired size (224x224)\n",
    "for i, filename in enumerate(os.listdir(output_dir)):\n",
    "    if filename.lower().endswith(('.jpg', '.jpeg', '.png', '.gif')):\n",
    "        image_path = os.path.join(output_dir, filename)\n",
    "        img = Image.open(image_path)\n",
    "        img = img.resize(desired_size, Image.ANTIALIAS)\n",
    "        img.save(image_path)\n",
    "\n",
    "# Rename the resized images\n",
    "for i, filename in enumerate(os.listdir(output_dir)):\n",
    "    if filename.lower().endswith(('.jpg', '.jpeg', '.png', '.gif')):\n",
    "        os.rename(os.path.join(output_dir, filename), os.path.join(output_dir, f\"a_{i}.jpg\"))\n",
    "\n",
    "print(f\"Generated {num_samples} augmented images (224x224) in {output_dir}\")\n"
   ]
  },
  {
   "cell_type": "code",
   "execution_count": null,
   "metadata": {
    "colab": {
     "base_uri": "https://localhost:8080/"
    },
    "id": "aFvNASXs8vT_",
    "outputId": "bd3df639-121e-44f1-c766-bf523d700025"
   },
   "outputs": [
    {
     "name": "stdout",
     "output_type": "stream",
     "text": [
      "Initialised with 93 image(s) found.\n",
      "Output directory set to /content/drive/MyDrive/AugmentedImages/Cardiomegaly/."
     ]
    },
    {
     "name": "stderr",
     "output_type": "stream",
     "text": [
      "Processing <PIL.Image.Image image mode=L size=1024x1024 at 0x7898981E1CC0>: 100%|██████████| 1000/1000 [04:11<00:00,  3.98 Samples/s]\n",
      "<ipython-input-2-5aa663e38ae2>:36: DeprecationWarning: ANTIALIAS is deprecated and will be removed in Pillow 10 (2023-07-01). Use LANCZOS or Resampling.LANCZOS instead.\n",
      "  img = img.resize(desired_size, Image.ANTIALIAS)\n"
     ]
    },
    {
     "name": "stdout",
     "output_type": "stream",
     "text": [
      "Generated 1000 augmented images (224x224) in /content/drive/MyDrive/AugmentedImages/Cardiomegaly/\n"
     ]
    }
   ],
   "source": [
    "import Augmentor\n",
    "import os\n",
    "from PIL import Image\n",
    "\n",
    "# Path to the folder containing your source images\n",
    "source_dir = \"/content/drive/MyDrive/New dataset location/Cardiomegaly/\"\n",
    "\n",
    "# Path to the folder where augmented images will be saved\n",
    "output_dir = \"/content/drive/MyDrive/AugmentedImages/Cardiomegaly/\"\n",
    "\n",
    "# Desired image size\n",
    "desired_size = (224, 224)\n",
    "\n",
    "# Create the output directory if it doesn't exist\n",
    "os.makedirs(output_dir, exist_ok=True)\n",
    "\n",
    "# Create an Augmentor pipeline\n",
    "p = Augmentor.Pipeline(source_directory=source_dir, output_directory=output_dir)\n",
    "\n",
    "# Define the number of samples you want to generate (1000 in your case)\n",
    "num_samples = 1000\n",
    "\n",
    "# Add augmentation operations (you can customize this as needed)\n",
    "p.rotate(probability=0.7, max_left_rotation=15, max_right_rotation=15)\n",
    "p.flip_left_right(probability=0.5)\n",
    "p.random_contrast(probability=0.5, min_factor=0.7, max_factor=1.3)\n",
    "\n",
    "# Keep generating samples until you reach the desired number\n",
    "p.sample(num_samples)\n",
    "\n",
    "# Resize the generated images to the desired size (224x224)\n",
    "for i, filename in enumerate(os.listdir(output_dir)):\n",
    "    if filename.lower().endswith(('.jpg', '.jpeg', '.png', '.gif')):\n",
    "        image_path = os.path.join(output_dir, filename)\n",
    "        img = Image.open(image_path)\n",
    "        img = img.resize(desired_size, Image.ANTIALIAS)\n",
    "        img.save(image_path)\n",
    "\n",
    "# Rename the resized images\n",
    "for i, filename in enumerate(os.listdir(output_dir)):\n",
    "    if filename.lower().endswith(('.jpg', '.jpeg', '.png', '.gif')):\n",
    "        os.rename(os.path.join(output_dir, filename), os.path.join(output_dir, f\"a_{i}.jpg\"))\n",
    "\n",
    "print(f\"Generated {num_samples} augmented images (224x224) in {output_dir}\")\n"
   ]
  },
  {
   "cell_type": "code",
   "execution_count": null,
   "metadata": {
    "colab": {
     "base_uri": "https://localhost:8080/"
    },
    "id": "ps5hMCnr9mBE",
    "outputId": "6f6327ca-6ee1-43d4-e537-2dbf148a51bc"
   },
   "outputs": [
    {
     "name": "stdout",
     "output_type": "stream",
     "text": [
      "Initialised with 142 image(s) found.\n",
      "Output directory set to /content/drive/MyDrive/AugmentedImages/Consolidation/."
     ]
    },
    {
     "name": "stderr",
     "output_type": "stream",
     "text": [
      "Processing <PIL.Image.Image image mode=L size=1024x1024 at 0x789863F78A60>: 100%|██████████| 1000/1000 [04:11<00:00,  3.98 Samples/s]\n",
      "<ipython-input-3-f865c5ded8bb>:36: DeprecationWarning: ANTIALIAS is deprecated and will be removed in Pillow 10 (2023-07-01). Use LANCZOS or Resampling.LANCZOS instead.\n",
      "  img = img.resize(desired_size, Image.ANTIALIAS)\n"
     ]
    },
    {
     "name": "stdout",
     "output_type": "stream",
     "text": [
      "Generated 1000 augmented images (224x224) in /content/drive/MyDrive/AugmentedImages/Consolidation/\n"
     ]
    }
   ],
   "source": [
    "import Augmentor\n",
    "import os\n",
    "from PIL import Image\n",
    "\n",
    "# Path to the folder containing your source images\n",
    "source_dir = \"/content/drive/MyDrive/New dataset location/Consolidation/\"\n",
    "\n",
    "# Path to the folder where augmented images will be saved\n",
    "output_dir = \"/content/drive/MyDrive/AugmentedImages/Consolidation/\"\n",
    "\n",
    "# Desired image size\n",
    "desired_size = (224, 224)\n",
    "\n",
    "# Create the output directory if it doesn't exist\n",
    "os.makedirs(output_dir, exist_ok=True)\n",
    "\n",
    "# Create an Augmentor pipeline\n",
    "p = Augmentor.Pipeline(source_directory=source_dir, output_directory=output_dir)\n",
    "\n",
    "# Define the number of samples you want to generate (1000 in your case)\n",
    "num_samples = 1000\n",
    "\n",
    "# Add augmentation operations (you can customize this as needed)\n",
    "p.rotate(probability=0.7, max_left_rotation=15, max_right_rotation=15)\n",
    "p.flip_left_right(probability=0.5)\n",
    "p.random_contrast(probability=0.5, min_factor=0.7, max_factor=1.3)\n",
    "\n",
    "# Keep generating samples until you reach the desired number\n",
    "p.sample(num_samples)\n",
    "\n",
    "# Resize the generated images to the desired size (224x224)\n",
    "for i, filename in enumerate(os.listdir(output_dir)):\n",
    "    if filename.lower().endswith(('.jpg', '.jpeg', '.png', '.gif')):\n",
    "        image_path = os.path.join(output_dir, filename)\n",
    "        img = Image.open(image_path)\n",
    "        img = img.resize(desired_size, Image.ANTIALIAS)\n",
    "        img.save(image_path)\n",
    "\n",
    "# Rename the resized images\n",
    "for i, filename in enumerate(os.listdir(output_dir)):\n",
    "    if filename.lower().endswith(('.jpg', '.jpeg', '.png', '.gif')):\n",
    "        os.rename(os.path.join(output_dir, filename), os.path.join(output_dir, f\"a_{i}.jpg\"))\n",
    "\n",
    "print(f\"Generated {num_samples} augmented images (224x224) in {output_dir}\")"
   ]
  },
  {
   "cell_type": "code",
   "execution_count": null,
   "metadata": {
    "colab": {
     "base_uri": "https://localhost:8080/"
    },
    "id": "k6Oibek295hR",
    "outputId": "fa6a8e6a-82d1-4215-98c6-7f9a5bf46ad8"
   },
   "outputs": [
    {
     "name": "stdout",
     "output_type": "stream",
     "text": [
      "Initialised with 75 image(s) found.\n",
      "Output directory set to /content/drive/MyDrive/AugmentedImages/Edema/."
     ]
    },
    {
     "name": "stderr",
     "output_type": "stream",
     "text": [
      "Processing <PIL.Image.Image image mode=L size=1024x1024 at 0x7898980A2590>: 100%|██████████| 1000/1000 [04:16<00:00,  3.90 Samples/s]\n",
      "<ipython-input-4-7ba54b47c0b6>:36: DeprecationWarning: ANTIALIAS is deprecated and will be removed in Pillow 10 (2023-07-01). Use LANCZOS or Resampling.LANCZOS instead.\n",
      "  img = img.resize(desired_size, Image.ANTIALIAS)\n"
     ]
    },
    {
     "name": "stdout",
     "output_type": "stream",
     "text": [
      "Generated 1000 augmented images (224x224) in /content/drive/MyDrive/AugmentedImages/Edema/\n"
     ]
    }
   ],
   "source": [
    "import Augmentor\n",
    "import os\n",
    "from PIL import Image\n",
    "\n",
    "# Path to the folder containing your source images\n",
    "source_dir = \"/content/drive/MyDrive/New dataset location/Edema/\"\n",
    "\n",
    "# Path to the folder where augmented images will be saved\n",
    "output_dir = \"/content/drive/MyDrive/AugmentedImages/Edema/\"\n",
    "\n",
    "# Desired image size\n",
    "desired_size = (224, 224)\n",
    "\n",
    "# Create the output directory if it doesn't exist\n",
    "os.makedirs(output_dir, exist_ok=True)\n",
    "\n",
    "# Create an Augmentor pipeline\n",
    "p = Augmentor.Pipeline(source_directory=source_dir, output_directory=output_dir)\n",
    "\n",
    "# Define the number of samples you want to generate (1000 in your case)\n",
    "num_samples = 1000\n",
    "\n",
    "# Add augmentation operations (you can customize this as needed)\n",
    "p.rotate(probability=0.7, max_left_rotation=15, max_right_rotation=15)\n",
    "p.flip_left_right(probability=0.5)\n",
    "p.random_contrast(probability=0.5, min_factor=0.7, max_factor=1.3)\n",
    "\n",
    "# Keep generating samples until you reach the desired number\n",
    "p.sample(num_samples)\n",
    "\n",
    "# Resize the generated images to the desired size (224x224)\n",
    "for i, filename in enumerate(os.listdir(output_dir)):\n",
    "    if filename.lower().endswith(('.jpg', '.jpeg', '.png', '.gif')):\n",
    "        image_path = os.path.join(output_dir, filename)\n",
    "        img = Image.open(image_path)\n",
    "        img = img.resize(desired_size, Image.ANTIALIAS)\n",
    "        img.save(image_path)\n",
    "\n",
    "# Rename the resized images\n",
    "for i, filename in enumerate(os.listdir(output_dir)):\n",
    "    if filename.lower().endswith(('.jpg', '.jpeg', '.png', '.gif')):\n",
    "        os.rename(os.path.join(output_dir, filename), os.path.join(output_dir, f\"Edema{i}.jpg\"))\n",
    "\n",
    "print(f\"Generated {num_samples} augmented images (224x224) in {output_dir}\")"
   ]
  },
  {
   "cell_type": "code",
   "execution_count": null,
   "metadata": {
    "colab": {
     "base_uri": "https://localhost:8080/"
    },
    "id": "rCXL_y8r_uGJ",
    "outputId": "1bca050b-02bb-4e08-bf6d-93f02bf73925"
   },
   "outputs": [
    {
     "name": "stdout",
     "output_type": "stream",
     "text": [
      "Initialised with 396 image(s) found.\n",
      "Output directory set to /content/drive/MyDrive/AugmentedImages/Effusion/."
     ]
    },
    {
     "name": "stderr",
     "output_type": "stream",
     "text": [
      "Processing <PIL.Image.Image image mode=L size=1024x1024 at 0x789863FB3D60>: 100%|██████████| 1000/1000 [04:29<00:00,  3.71 Samples/s]\n",
      "<ipython-input-5-bf23c76feafc>:36: DeprecationWarning: ANTIALIAS is deprecated and will be removed in Pillow 10 (2023-07-01). Use LANCZOS or Resampling.LANCZOS instead.\n",
      "  img = img.resize(desired_size, Image.ANTIALIAS)\n"
     ]
    },
    {
     "name": "stdout",
     "output_type": "stream",
     "text": [
      "Generated 1000 augmented images (224x224) in /content/drive/MyDrive/AugmentedImages/Effusion/\n"
     ]
    }
   ],
   "source": [
    "import Augmentor\n",
    "import os\n",
    "from PIL import Image\n",
    "\n",
    "# Path to the folder containing your source images\n",
    "source_dir = \"/content/drive/MyDrive/New dataset location/Effusion/\"\n",
    "\n",
    "# Path to the folder where augmented images will be saved\n",
    "output_dir = \"/content/drive/MyDrive/AugmentedImages/Effusion/\"\n",
    "\n",
    "# Desired image size\n",
    "desired_size = (224, 224)\n",
    "\n",
    "# Create the output directory if it doesn't exist\n",
    "os.makedirs(output_dir, exist_ok=True)\n",
    "\n",
    "# Create an Augmentor pipeline\n",
    "p = Augmentor.Pipeline(source_directory=source_dir, output_directory=output_dir)\n",
    "\n",
    "# Define the number of samples you want to generate (1000 in your case)\n",
    "num_samples = 1000\n",
    "\n",
    "# Add augmentation operations (you can customize this as needed)\n",
    "p.rotate(probability=0.7, max_left_rotation=15, max_right_rotation=15)\n",
    "p.flip_left_right(probability=0.5)\n",
    "p.random_contrast(probability=0.5, min_factor=0.7, max_factor=1.3)\n",
    "\n",
    "# Keep generating samples until you reach the desired number\n",
    "p.sample(num_samples)\n",
    "\n",
    "# Resize the generated images to the desired size (224x224)\n",
    "for i, filename in enumerate(os.listdir(output_dir)):\n",
    "    if filename.lower().endswith(('.jpg', '.jpeg', '.png', '.gif')):\n",
    "        image_path = os.path.join(output_dir, filename)\n",
    "        img = Image.open(image_path)\n",
    "        img = img.resize(desired_size, Image.ANTIALIAS)\n",
    "        img.save(image_path)\n",
    "\n",
    "# Rename the resized images\n",
    "for i, filename in enumerate(os.listdir(output_dir)):\n",
    "    if filename.lower().endswith(('.jpg', '.jpeg', '.png', '.gif')):\n",
    "        os.rename(os.path.join(output_dir, filename), os.path.join(output_dir, f\"Effusion{i}.jpg\"))\n",
    "\n",
    "print(f\"Generated {num_samples} augmented images (224x224) in {output_dir}\")"
   ]
  },
  {
   "cell_type": "code",
   "execution_count": null,
   "metadata": {
    "colab": {
     "base_uri": "https://localhost:8080/"
    },
    "id": "I3gyxz5JAJ33",
    "outputId": "d08c8378-8385-4c2a-aacf-f69cd6f9be33"
   },
   "outputs": [
    {
     "name": "stdout",
     "output_type": "stream",
     "text": [
      "Initialised with 67 image(s) found.\n",
      "Output directory set to /content/drive/MyDrive/AugmentedImages/Fibrosis/."
     ]
    },
    {
     "name": "stderr",
     "output_type": "stream",
     "text": [
      "Processing <PIL.Image.Image image mode=L size=1024x1024 at 0x78989AD33EB0>: 100%|██████████| 1000/1000 [04:12<00:00,  3.96 Samples/s]\n",
      "<ipython-input-6-982634c0f1b9>:36: DeprecationWarning: ANTIALIAS is deprecated and will be removed in Pillow 10 (2023-07-01). Use LANCZOS or Resampling.LANCZOS instead.\n",
      "  img = img.resize(desired_size, Image.ANTIALIAS)\n"
     ]
    },
    {
     "name": "stdout",
     "output_type": "stream",
     "text": [
      "Generated 1000 augmented images (224x224) in /content/drive/MyDrive/AugmentedImages/Fibrosis/\n"
     ]
    }
   ],
   "source": [
    "import Augmentor\n",
    "import os\n",
    "from PIL import Image\n",
    "\n",
    "# Path to the folder containing your source images\n",
    "source_dir = \"/content/drive/MyDrive/New dataset location/Fibrosis/\"\n",
    "\n",
    "# Path to the folder where augmented images will be saved\n",
    "output_dir = \"/content/drive/MyDrive/AugmentedImages/Fibrosis/\"\n",
    "\n",
    "# Desired image size\n",
    "desired_size = (224, 224)\n",
    "\n",
    "# Create the output directory if it doesn't exist\n",
    "os.makedirs(output_dir, exist_ok=True)\n",
    "\n",
    "# Create an Augmentor pipeline\n",
    "p = Augmentor.Pipeline(source_directory=source_dir, output_directory=output_dir)\n",
    "\n",
    "# Define the number of samples you want to generate (1000 in your case)\n",
    "num_samples = 1000\n",
    "\n",
    "# Add augmentation operations (you can customize this as needed)\n",
    "p.rotate(probability=0.7, max_left_rotation=15, max_right_rotation=15)\n",
    "p.flip_left_right(probability=0.5)\n",
    "p.random_contrast(probability=0.5, min_factor=0.7, max_factor=1.3)\n",
    "\n",
    "# Keep generating samples until you reach the desired number\n",
    "p.sample(num_samples)\n",
    "\n",
    "# Resize the generated images to the desired size (224x224)\n",
    "for i, filename in enumerate(os.listdir(output_dir)):\n",
    "    if filename.lower().endswith(('.jpg', '.jpeg', '.png', '.gif')):\n",
    "        image_path = os.path.join(output_dir, filename)\n",
    "        img = Image.open(image_path)\n",
    "        img = img.resize(desired_size, Image.ANTIALIAS)\n",
    "        img.save(image_path)\n",
    "\n",
    "# Rename the resized images\n",
    "for i, filename in enumerate(os.listdir(output_dir)):\n",
    "    if filename.lower().endswith(('.jpg', '.jpeg', '.png', '.gif')):\n",
    "        os.rename(os.path.join(output_dir, filename), os.path.join(output_dir, f\"Fibrosis{i}.jpg\"))\n",
    "\n",
    "print(f\"Generated {num_samples} augmented images (224x224) in {output_dir}\")"
   ]
  },
  {
   "cell_type": "code",
   "execution_count": null,
   "metadata": {
    "colab": {
     "base_uri": "https://localhost:8080/"
    },
    "id": "GtUbrEkgAZVw",
    "outputId": "046fe2dd-c58e-4f7a-ee92-e92d8c2fc2c7"
   },
   "outputs": [
    {
     "name": "stdout",
     "output_type": "stream",
     "text": [
      "Initialised with 12 image(s) found.\n",
      "Output directory set to /content/drive/MyDrive/AugmentedImages/Hernia/."
     ]
    },
    {
     "name": "stderr",
     "output_type": "stream",
     "text": [
      "Processing <PIL.Image.Image image mode=L size=1024x1024 at 0x789898001EA0>: 100%|██████████| 1000/1000 [04:17<00:00,  3.89 Samples/s]\n",
      "<ipython-input-7-e1af9c36d0ba>:36: DeprecationWarning: ANTIALIAS is deprecated and will be removed in Pillow 10 (2023-07-01). Use LANCZOS or Resampling.LANCZOS instead.\n",
      "  img = img.resize(desired_size, Image.ANTIALIAS)\n"
     ]
    },
    {
     "name": "stdout",
     "output_type": "stream",
     "text": [
      "Generated 1000 augmented images (224x224) in /content/drive/MyDrive/AugmentedImages/Hernia/\n"
     ]
    }
   ],
   "source": [
    "import Augmentor\n",
    "import os\n",
    "from PIL import Image\n",
    "\n",
    "# Path to the folder containing your source images\n",
    "source_dir = \"/content/drive/MyDrive/New dataset location/Hernia/\"\n",
    "\n",
    "# Path to the folder where augmented images will be saved\n",
    "output_dir = \"/content/drive/MyDrive/AugmentedImages/Hernia/\"\n",
    "\n",
    "# Desired image size\n",
    "desired_size = (224, 224)\n",
    "\n",
    "# Create the output directory if it doesn't exist\n",
    "os.makedirs(output_dir, exist_ok=True)\n",
    "\n",
    "# Create an Augmentor pipeline\n",
    "p = Augmentor.Pipeline(source_directory=source_dir, output_directory=output_dir)\n",
    "\n",
    "# Define the number of samples you want to generate (1000 in your case)\n",
    "num_samples = 1000\n",
    "\n",
    "# Add augmentation operations (you can customize this as needed)\n",
    "p.rotate(probability=0.7, max_left_rotation=15, max_right_rotation=15)\n",
    "p.flip_left_right(probability=0.5)\n",
    "p.random_contrast(probability=0.5, min_factor=0.7, max_factor=1.3)\n",
    "\n",
    "# Keep generating samples until you reach the desired number\n",
    "p.sample(num_samples)\n",
    "\n",
    "# Resize the generated images to the desired size (224x224)\n",
    "for i, filename in enumerate(os.listdir(output_dir)):\n",
    "    if filename.lower().endswith(('.jpg', '.jpeg', '.png', '.gif')):\n",
    "        image_path = os.path.join(output_dir, filename)\n",
    "        img = Image.open(image_path)\n",
    "        img = img.resize(desired_size, Image.ANTIALIAS)\n",
    "        img.save(image_path)\n",
    "\n",
    "# Rename the resized images\n",
    "for i, filename in enumerate(os.listdir(output_dir)):\n",
    "    if filename.lower().endswith(('.jpg', '.jpeg', '.png', '.gif')):\n",
    "        os.rename(os.path.join(output_dir, filename), os.path.join(output_dir, f\"Hernia{i}.jpg\"))\n",
    "\n",
    "print(f\"Generated {num_samples} augmented images (224x224) in {output_dir}\")"
   ]
  },
  {
   "cell_type": "code",
   "execution_count": null,
   "metadata": {
    "colab": {
     "base_uri": "https://localhost:8080/"
    },
    "id": "jRO0PGPOArND",
    "outputId": "221f5f1f-e7c1-497e-ad8d-1a16052ee93d"
   },
   "outputs": [
    {
     "name": "stdout",
     "output_type": "stream",
     "text": [
      "Initialised with 544 image(s) found.\n",
      "Output directory set to /content/drive/MyDrive/AugmentedImages/Infiltration/."
     ]
    },
    {
     "name": "stderr",
     "output_type": "stream",
     "text": [
      "Processing <PIL.PngImagePlugin.PngImageFile image mode=L size=1024x1024 at 0x789863FB1B70>: 100%|██████████| 1000/1000 [04:12<00:00,  3.95 Samples/s]\n",
      "<ipython-input-8-25dbf1b6de2a>:36: DeprecationWarning: ANTIALIAS is deprecated and will be removed in Pillow 10 (2023-07-01). Use LANCZOS or Resampling.LANCZOS instead.\n",
      "  img = img.resize(desired_size, Image.ANTIALIAS)\n"
     ]
    },
    {
     "name": "stdout",
     "output_type": "stream",
     "text": [
      "Generated 1000 augmented images (224x224) in /content/drive/MyDrive/AugmentedImages/Infiltration/\n"
     ]
    }
   ],
   "source": [
    "import Augmentor\n",
    "import os\n",
    "from PIL import Image\n",
    "\n",
    "# Path to the folder containing your source images\n",
    "source_dir = \"/content/drive/MyDrive/New dataset location/Infiltration/\"\n",
    "\n",
    "# Path to the folder where augmented images will be saved\n",
    "output_dir = \"/content/drive/MyDrive/AugmentedImages/Infiltration/\"\n",
    "\n",
    "# Desired image size\n",
    "desired_size = (224, 224)\n",
    "\n",
    "# Create the output directory if it doesn't exist\n",
    "os.makedirs(output_dir, exist_ok=True)\n",
    "\n",
    "# Create an Augmentor pipeline\n",
    "p = Augmentor.Pipeline(source_directory=source_dir, output_directory=output_dir)\n",
    "\n",
    "# Define the number of samples you want to generate (1000 in your case)\n",
    "num_samples = 1000\n",
    "\n",
    "# Add augmentation operations (you can customize this as needed)\n",
    "p.rotate(probability=0.7, max_left_rotation=15, max_right_rotation=15)\n",
    "p.flip_left_right(probability=0.5)\n",
    "p.random_contrast(probability=0.5, min_factor=0.7, max_factor=1.3)\n",
    "\n",
    "# Keep generating samples until you reach the desired number\n",
    "p.sample(num_samples)\n",
    "\n",
    "# Resize the generated images to the desired size (224x224)\n",
    "for i, filename in enumerate(os.listdir(output_dir)):\n",
    "    if filename.lower().endswith(('.jpg', '.jpeg', '.png', '.gif')):\n",
    "        image_path = os.path.join(output_dir, filename)\n",
    "        img = Image.open(image_path)\n",
    "        img = img.resize(desired_size, Image.ANTIALIAS)\n",
    "        img.save(image_path)\n",
    "\n",
    "# Rename the resized images\n",
    "for i, filename in enumerate(os.listdir(output_dir)):\n",
    "    if filename.lower().endswith(('.jpg', '.jpeg', '.png', '.gif')):\n",
    "        os.rename(os.path.join(output_dir, filename), os.path.join(output_dir, f\"Infiltration{i}.jpg\"))\n",
    "\n",
    "print(f\"Generated {num_samples} augmented images (224x224) in {output_dir}\")"
   ]
  },
  {
   "cell_type": "code",
   "execution_count": null,
   "metadata": {
    "colab": {
     "base_uri": "https://localhost:8080/"
    },
    "id": "V_tXcbhiBIOU",
    "outputId": "89da1c69-d24c-4985-b840-6fdef717e5f9"
   },
   "outputs": [
    {
     "name": "stdout",
     "output_type": "stream",
     "text": [
      "Initialised with 181 image(s) found.\n",
      "Output directory set to /content/drive/MyDrive/AugmentedImages/Mass/."
     ]
    },
    {
     "name": "stderr",
     "output_type": "stream",
     "text": [
      "Processing <PIL.Image.Image image mode=L size=1024x1024 at 0x7898981E3E20>: 100%|██████████| 1000/1000 [04:13<00:00,  3.94 Samples/s]\n",
      "<ipython-input-9-921e65eb3f20>:36: DeprecationWarning: ANTIALIAS is deprecated and will be removed in Pillow 10 (2023-07-01). Use LANCZOS or Resampling.LANCZOS instead.\n",
      "  img = img.resize(desired_size, Image.ANTIALIAS)\n"
     ]
    },
    {
     "name": "stdout",
     "output_type": "stream",
     "text": [
      "Generated 1000 augmented images (224x224) in /content/drive/MyDrive/AugmentedImages/Mass/\n"
     ]
    }
   ],
   "source": [
    "import Augmentor\n",
    "import os\n",
    "from PIL import Image\n",
    "\n",
    "# Path to the folder containing your source images\n",
    "source_dir = \"/content/drive/MyDrive/New dataset location/Mass/\"\n",
    "\n",
    "# Path to the folder where augmented images will be saved\n",
    "output_dir = \"/content/drive/MyDrive/AugmentedImages/Mass/\"\n",
    "\n",
    "# Desired image size\n",
    "desired_size = (224, 224)\n",
    "\n",
    "# Create the output directory if it doesn't exist\n",
    "os.makedirs(output_dir, exist_ok=True)\n",
    "\n",
    "# Create an Augmentor pipeline\n",
    "p = Augmentor.Pipeline(source_directory=source_dir, output_directory=output_dir)\n",
    "\n",
    "# Define the number of samples you want to generate (1000 in your case)\n",
    "num_samples = 1000\n",
    "\n",
    "# Add augmentation operations (you can customize this as needed)\n",
    "p.rotate(probability=0.7, max_left_rotation=15, max_right_rotation=15)\n",
    "p.flip_left_right(probability=0.5)\n",
    "p.random_contrast(probability=0.5, min_factor=0.7, max_factor=1.3)\n",
    "\n",
    "# Keep generating samples until you reach the desired number\n",
    "p.sample(num_samples)\n",
    "\n",
    "# Resize the generated images to the desired size (224x224)\n",
    "for i, filename in enumerate(os.listdir(output_dir)):\n",
    "    if filename.lower().endswith(('.jpg', '.jpeg', '.png', '.gif')):\n",
    "        image_path = os.path.join(output_dir, filename)\n",
    "        img = Image.open(image_path)\n",
    "        img = img.resize(desired_size, Image.ANTIALIAS)\n",
    "        img.save(image_path)\n",
    "\n",
    "# Rename the resized images\n",
    "for i, filename in enumerate(os.listdir(output_dir)):\n",
    "    if filename.lower().endswith(('.jpg', '.jpeg', '.png', '.gif')):\n",
    "        os.rename(os.path.join(output_dir, filename), os.path.join(output_dir, f\"Mass{i}.jpg\"))\n",
    "\n",
    "print(f\"Generated {num_samples} augmented images (224x224) in {output_dir}\")"
   ]
  },
  {
   "cell_type": "code",
   "execution_count": null,
   "metadata": {
    "colab": {
     "base_uri": "https://localhost:8080/"
    },
    "id": "4Jtw6SQvBS5J",
    "outputId": "e4ad5d34-39ee-454b-bc31-3de4bd13b7a0"
   },
   "outputs": [
    {
     "name": "stdout",
     "output_type": "stream",
     "text": [
      "Initialised with 2045 image(s) found.\n",
      "Output directory set to /content/drive/MyDrive/AugmentedImages/No Finding/."
     ]
    },
    {
     "name": "stderr",
     "output_type": "stream",
     "text": [
      "Processing <PIL.Image.Image image mode=L size=1024x1024 at 0x78987C607220>: 100%|██████████| 1000/1000 [04:20<00:00,  3.84 Samples/s]\n",
      "<ipython-input-10-0f6d93509177>:36: DeprecationWarning: ANTIALIAS is deprecated and will be removed in Pillow 10 (2023-07-01). Use LANCZOS or Resampling.LANCZOS instead.\n",
      "  img = img.resize(desired_size, Image.ANTIALIAS)\n"
     ]
    },
    {
     "name": "stdout",
     "output_type": "stream",
     "text": [
      "Generated 1000 augmented images (224x224) in /content/drive/MyDrive/AugmentedImages/No Finding/\n"
     ]
    }
   ],
   "source": [
    "import Augmentor\n",
    "import os\n",
    "from PIL import Image\n",
    "\n",
    "# Path to the folder containing your source images\n",
    "source_dir = \"/content/drive/MyDrive/New dataset location/No Finding/\"\n",
    "\n",
    "# Path to the folder where augmented images will be saved\n",
    "output_dir = \"/content/drive/MyDrive/AugmentedImages/No Finding/\"\n",
    "\n",
    "# Desired image size\n",
    "desired_size = (224, 224)\n",
    "\n",
    "# Create the output directory if it doesn't exist\n",
    "os.makedirs(output_dir, exist_ok=True)\n",
    "\n",
    "# Create an Augmentor pipeline\n",
    "p = Augmentor.Pipeline(source_directory=source_dir, output_directory=output_dir)\n",
    "\n",
    "# Define the number of samples you want to generate (1000 in your case)\n",
    "num_samples = 1000\n",
    "\n",
    "# Add augmentation operations (you can customize this as needed)\n",
    "p.rotate(probability=0.7, max_left_rotation=15, max_right_rotation=15)\n",
    "p.flip_left_right(probability=0.5)\n",
    "p.random_contrast(probability=0.5, min_factor=0.7, max_factor=1.3)\n",
    "\n",
    "# Keep generating samples until you reach the desired number\n",
    "p.sample(num_samples)\n",
    "\n",
    "# Resize the generated images to the desired size (224x224)\n",
    "for i, filename in enumerate(os.listdir(output_dir)):\n",
    "    if filename.lower().endswith(('.jpg', '.jpeg', '.png', '.gif')):\n",
    "        image_path = os.path.join(output_dir, filename)\n",
    "        img = Image.open(image_path)\n",
    "        img = img.resize(desired_size, Image.ANTIALIAS)\n",
    "        img.save(image_path)\n",
    "\n",
    "# Rename the resized images\n",
    "for i, filename in enumerate(os.listdir(output_dir)):\n",
    "    if filename.lower().endswith(('.jpg', '.jpeg', '.png', '.gif')):\n",
    "        os.rename(os.path.join(output_dir, filename), os.path.join(output_dir, f\"No Finding{i}.jpg\"))\n",
    "\n",
    "print(f\"Generated {num_samples} augmented images (224x224) in {output_dir}\")"
   ]
  },
  {
   "cell_type": "code",
   "execution_count": null,
   "metadata": {
    "colab": {
     "base_uri": "https://localhost:8080/"
    },
    "id": "BCgf8bZcBgz-",
    "outputId": "d2a77425-fbe7-42d1-d101-35184be41f04"
   },
   "outputs": [
    {
     "name": "stdout",
     "output_type": "stream",
     "text": [
      "Initialised with 186 image(s) found.\n",
      "Output directory set to /content/drive/MyDrive/AugmentedImages/Nodule/."
     ]
    },
    {
     "name": "stderr",
     "output_type": "stream",
     "text": [
      "Processing <PIL.Image.Image image mode=L size=1024x1024 at 0x78987C623010>: 100%|██████████| 1000/1000 [04:16<00:00,  3.90 Samples/s]\n",
      "<ipython-input-11-7c05b4e63838>:36: DeprecationWarning: ANTIALIAS is deprecated and will be removed in Pillow 10 (2023-07-01). Use LANCZOS or Resampling.LANCZOS instead.\n",
      "  img = img.resize(desired_size, Image.ANTIALIAS)\n"
     ]
    },
    {
     "name": "stdout",
     "output_type": "stream",
     "text": [
      "Generated 1000 augmented images (224x224) in /content/drive/MyDrive/AugmentedImages/Nodule/\n"
     ]
    }
   ],
   "source": [
    "import Augmentor\n",
    "import os\n",
    "from PIL import Image\n",
    "\n",
    "# Path to the folder containing your source images\n",
    "source_dir = \"/content/drive/MyDrive/New dataset location/Nodule/\"\n",
    "\n",
    "# Path to the folder where augmented images will be saved\n",
    "output_dir = \"/content/drive/MyDrive/AugmentedImages/Nodule/\"\n",
    "\n",
    "# Desired image size\n",
    "desired_size = (224, 224)\n",
    "\n",
    "# Create the output directory if it doesn't exist\n",
    "os.makedirs(output_dir, exist_ok=True)\n",
    "\n",
    "# Create an Augmentor pipeline\n",
    "p = Augmentor.Pipeline(source_directory=source_dir, output_directory=output_dir)\n",
    "\n",
    "# Define the number of samples you want to generate (1000 in your case)\n",
    "num_samples = 1000\n",
    "\n",
    "# Add augmentation operations (you can customize this as needed)\n",
    "p.rotate(probability=0.7, max_left_rotation=15, max_right_rotation=15)\n",
    "p.flip_left_right(probability=0.5)\n",
    "p.random_contrast(probability=0.5, min_factor=0.7, max_factor=1.3)\n",
    "\n",
    "# Keep generating samples until you reach the desired number\n",
    "p.sample(num_samples)\n",
    "\n",
    "# Resize the generated images to the desired size (224x224)\n",
    "for i, filename in enumerate(os.listdir(output_dir)):\n",
    "    if filename.lower().endswith(('.jpg', '.jpeg', '.png', '.gif')):\n",
    "        image_path = os.path.join(output_dir, filename)\n",
    "        img = Image.open(image_path)\n",
    "        img = img.resize(desired_size, Image.ANTIALIAS)\n",
    "        img.save(image_path)\n",
    "\n",
    "# Rename the resized images\n",
    "for i, filename in enumerate(os.listdir(output_dir)):\n",
    "    if filename.lower().endswith(('.jpg', '.jpeg', '.png', '.gif')):\n",
    "        os.rename(os.path.join(output_dir, filename), os.path.join(output_dir, f\"Nodule{i}.jpg\"))\n",
    "\n",
    "print(f\"Generated {num_samples} augmented images (224x224) in {output_dir}\")"
   ]
  },
  {
   "cell_type": "code",
   "execution_count": null,
   "metadata": {
    "colab": {
     "base_uri": "https://localhost:8080/"
    },
    "id": "YrATaJmeBz1F",
    "outputId": "2de37afa-0c07-4177-e35b-fb841c7cff5d"
   },
   "outputs": [
    {
     "name": "stdout",
     "output_type": "stream",
     "text": [
      "Initialised with 108 image(s) found.\n",
      "Output directory set to /content/drive/MyDrive/AugmentedImages/Pleural_Thickening/."
     ]
    },
    {
     "name": "stderr",
     "output_type": "stream",
     "text": [
      "Processing <PIL.PngImagePlugin.PngImageFile image mode=L size=1024x1024 at 0x7898980D4DC0>: 100%|██████████| 1000/1000 [04:17<00:00,  3.88 Samples/s]\n",
      "<ipython-input-12-8b1374694da6>:36: DeprecationWarning: ANTIALIAS is deprecated and will be removed in Pillow 10 (2023-07-01). Use LANCZOS or Resampling.LANCZOS instead.\n",
      "  img = img.resize(desired_size, Image.ANTIALIAS)\n"
     ]
    },
    {
     "name": "stdout",
     "output_type": "stream",
     "text": [
      "Generated 1000 augmented images (224x224) in /content/drive/MyDrive/AugmentedImages/Pleural_Thickening/\n"
     ]
    }
   ],
   "source": [
    "import Augmentor\n",
    "import os\n",
    "from PIL import Image\n",
    "\n",
    "# Path to the folder containing your source images\n",
    "source_dir = \"/content/drive/MyDrive/New dataset location/Pleural_Thickening/\"\n",
    "\n",
    "# Path to the folder where augmented images will be saved\n",
    "output_dir = \"/content/drive/MyDrive/AugmentedImages/Pleural_Thickening/\"\n",
    "\n",
    "# Desired image size\n",
    "desired_size = (224, 224)\n",
    "\n",
    "# Create the output directory if it doesn't exist\n",
    "os.makedirs(output_dir, exist_ok=True)\n",
    "\n",
    "# Create an Augmentor pipeline\n",
    "p = Augmentor.Pipeline(source_directory=source_dir, output_directory=output_dir)\n",
    "\n",
    "# Define the number of samples you want to generate (1000 in your case)\n",
    "num_samples = 1000\n",
    "\n",
    "# Add augmentation operations (you can customize this as needed)\n",
    "p.rotate(probability=0.7, max_left_rotation=15, max_right_rotation=15)\n",
    "p.flip_left_right(probability=0.5)\n",
    "p.random_contrast(probability=0.5, min_factor=0.7, max_factor=1.3)\n",
    "\n",
    "# Keep generating samples until you reach the desired number\n",
    "p.sample(num_samples)\n",
    "\n",
    "# Resize the generated images to the desired size (224x224)\n",
    "for i, filename in enumerate(os.listdir(output_dir)):\n",
    "    if filename.lower().endswith(('.jpg', '.jpeg', '.png', '.gif')):\n",
    "        image_path = os.path.join(output_dir, filename)\n",
    "        img = Image.open(image_path)\n",
    "        img = img.resize(desired_size, Image.ANTIALIAS)\n",
    "        img.save(image_path)\n",
    "\n",
    "# Rename the resized images\n",
    "for i, filename in enumerate(os.listdir(output_dir)):\n",
    "    if filename.lower().endswith(('.jpg', '.jpeg', '.png', '.gif')):\n",
    "        os.rename(os.path.join(output_dir, filename), os.path.join(output_dir, f\"Pleural_Thickening{i}.jpg\"))\n",
    "\n",
    "print(f\"Generated {num_samples} augmented images (224x224) in {output_dir}\")"
   ]
  },
  {
   "cell_type": "code",
   "execution_count": null,
   "metadata": {
    "colab": {
     "base_uri": "https://localhost:8080/"
    },
    "id": "xKOXqp5VB_S_",
    "outputId": "87fcccad-66f2-4673-c20f-302476e458c9"
   },
   "outputs": [
    {
     "name": "stdout",
     "output_type": "stream",
     "text": [
      "Initialised with 37 image(s) found.\n",
      "Output directory set to /content/drive/MyDrive/AugmentedImages/Pneumonia/."
     ]
    },
    {
     "name": "stderr",
     "output_type": "stream",
     "text": [
      "Processing <PIL.Image.Image image mode=L size=1024x1024 at 0x789863FFCBB0>: 100%|██████████| 1000/1000 [04:14<00:00,  3.93 Samples/s]\n",
      "<ipython-input-13-25a463157141>:36: DeprecationWarning: ANTIALIAS is deprecated and will be removed in Pillow 10 (2023-07-01). Use LANCZOS or Resampling.LANCZOS instead.\n",
      "  img = img.resize(desired_size, Image.ANTIALIAS)\n"
     ]
    },
    {
     "name": "stdout",
     "output_type": "stream",
     "text": [
      "Generated 1000 augmented images (224x224) in /content/drive/MyDrive/AugmentedImages/Pneumonia/\n"
     ]
    }
   ],
   "source": [
    "import Augmentor\n",
    "import os\n",
    "from PIL import Image\n",
    "\n",
    "# Path to the folder containing your source images\n",
    "source_dir = \"/content/drive/MyDrive/New dataset location/Pneumonia/\"\n",
    "\n",
    "# Path to the folder where augmented images will be saved\n",
    "output_dir = \"/content/drive/MyDrive/AugmentedImages/Pneumonia/\"\n",
    "\n",
    "# Desired image size\n",
    "desired_size = (224, 224)\n",
    "\n",
    "# Create the output directory if it doesn't exist\n",
    "os.makedirs(output_dir, exist_ok=True)\n",
    "\n",
    "# Create an Augmentor pipeline\n",
    "p = Augmentor.Pipeline(source_directory=source_dir, output_directory=output_dir)\n",
    "\n",
    "# Define the number of samples you want to generate (1000 in your case)\n",
    "num_samples = 1000\n",
    "\n",
    "# Add augmentation operations (you can customize this as needed)\n",
    "p.rotate(probability=0.7, max_left_rotation=15, max_right_rotation=15)\n",
    "p.flip_left_right(probability=0.5)\n",
    "p.random_contrast(probability=0.5, min_factor=0.7, max_factor=1.3)\n",
    "\n",
    "# Keep generating samples until you reach the desired number\n",
    "p.sample(num_samples)\n",
    "\n",
    "# Resize the generated images to the desired size (224x224)\n",
    "for i, filename in enumerate(os.listdir(output_dir)):\n",
    "    if filename.lower().endswith(('.jpg', '.jpeg', '.png', '.gif')):\n",
    "        image_path = os.path.join(output_dir, filename)\n",
    "        img = Image.open(image_path)\n",
    "        img = img.resize(desired_size, Image.ANTIALIAS)\n",
    "        img.save(image_path)\n",
    "\n",
    "# Rename the resized images\n",
    "for i, filename in enumerate(os.listdir(output_dir)):\n",
    "    if filename.lower().endswith(('.jpg', '.jpeg', '.png', '.gif')):\n",
    "        os.rename(os.path.join(output_dir, filename), os.path.join(output_dir, f\"Pneumonia{i}.jpg\"))\n",
    "\n",
    "print(f\"Generated {num_samples} augmented images (224x224) in {output_dir}\")"
   ]
  },
  {
   "cell_type": "code",
   "execution_count": null,
   "metadata": {
    "colab": {
     "base_uri": "https://localhost:8080/"
    },
    "id": "-zga-36B0SlD",
    "outputId": "d2e58d79-d239-49c9-95a3-088317f1c25c"
   },
   "outputs": [
    {
     "name": "stdout",
     "output_type": "stream",
     "text": [
      "Initialised with 163 image(s) found.\n",
      "Output directory set to /content/drive/MyDrive/AugmentedImages/Pneumothorax/."
     ]
    },
    {
     "name": "stderr",
     "output_type": "stream",
     "text": [
      "Processing <PIL.Image.Image image mode=L size=1024x1024 at 0x7898980D6D70>: 100%|██████████| 1000/1000 [04:06<00:00,  4.06 Samples/s]\n",
      "<ipython-input-18-32274bf63307>:36: DeprecationWarning: ANTIALIAS is deprecated and will be removed in Pillow 10 (2023-07-01). Use LANCZOS or Resampling.LANCZOS instead.\n",
      "  img = img.resize(desired_size, Image.ANTIALIAS)\n"
     ]
    },
    {
     "name": "stdout",
     "output_type": "stream",
     "text": [
      "Generated 1000 augmented images (224x224) in /content/drive/MyDrive/AugmentedImages/Pneumothorax/\n"
     ]
    }
   ],
   "source": [
    "import Augmentor\n",
    "import os\n",
    "from PIL import Image\n",
    "\n",
    "# Path to the folder containing your source images\n",
    "source_dir = \"/content/drive/MyDrive/New dataset location/Pneumothorax/\"\n",
    "\n",
    "# Path to the folder where augmented images will be saved\n",
    "output_dir = \"/content/drive/MyDrive/AugmentedImages/Pneumothorax/\"\n",
    "\n",
    "# Desired image size\n",
    "desired_size = (224, 224)\n",
    "\n",
    "# Create the output directory if it doesn't exist\n",
    "os.makedirs(output_dir, exist_ok=True)\n",
    "\n",
    "# Create an Augmentor pipeline\n",
    "p = Augmentor.Pipeline(source_directory=source_dir, output_directory=output_dir)\n",
    "\n",
    "# Define the number of samples you want to generate (1000 in your case)\n",
    "num_samples = 1000\n",
    "\n",
    "# Add augmentation operations (you can customize this as needed)\n",
    "p.rotate(probability=0.7, max_left_rotation=15, max_right_rotation=15)\n",
    "p.flip_left_right(probability=0.5)\n",
    "p.random_contrast(probability=0.5, min_factor=0.7, max_factor=1.3)\n",
    "\n",
    "# Keep generating samples until you reach the desired number\n",
    "p.sample(num_samples)\n",
    "\n",
    "# Resize the generated images to the desired size (224x224)\n",
    "for i, filename in enumerate(os.listdir(output_dir)):\n",
    "    if filename.lower().endswith(('.jpg', '.jpeg', '.png', '.gif')):\n",
    "        image_path = os.path.join(output_dir, filename)\n",
    "        img = Image.open(image_path)\n",
    "        img = img.resize(desired_size, Image.ANTIALIAS)\n",
    "        img.save(image_path)\n",
    "\n",
    "# Rename the resized images\n",
    "for i, filename in enumerate(os.listdir(output_dir)):\n",
    "    if filename.lower().endswith(('.jpg', '.jpeg', '.png', '.gif')):\n",
    "        os.rename(os.path.join(output_dir, filename), os.path.join(output_dir, f\"Pneumothorax{i}.jpg\"))\n",
    "\n",
    "print(f\"Generated {num_samples} augmented images (224x224) in {output_dir}\")"
   ]
  },
  {
   "cell_type": "code",
   "execution_count": null,
   "metadata": {
    "id": "mgyzAhpqCLx1"
   },
   "outputs": [],
   "source": []
  }
 ],
 "metadata": {
  "colab": {
   "provenance": []
  },
  "kernelspec": {
   "display_name": "Python 3 (ipykernel)",
   "language": "python",
   "name": "python3"
  },
  "language_info": {
   "codemirror_mode": {
    "name": "ipython",
    "version": 3
   },
   "file_extension": ".py",
   "mimetype": "text/x-python",
   "name": "python",
   "nbconvert_exporter": "python",
   "pygments_lexer": "ipython3",
   "version": "3.11.6"
  }
 },
 "nbformat": 4,
 "nbformat_minor": 4
}
